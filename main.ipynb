{
 "cells": [
  {
   "cell_type": "code",
   "execution_count": 66,
   "metadata": {},
   "outputs": [],
   "source": [
    "import requests\n",
    "import urllib.parse\n",
    "from bs4 import BeautifulSoup\n",
    "import re\n",
    "import pandas as pd\n",
    "import time\n",
    "\n",
    "headers={\"User-Agent\":\"Mozilla/5.0 (Windows NT 10.0; Win64; x64) AppleWebKit/537.36 (KHTML, like Gecko) Chrome/107.0.0.0 Safari/537.36\"}\n",
    "# target_url='https://www.linkedin.com/jobs/search?keywords=python&location=Canada&geoId=&trk=public_jobs_jobs-search-bar_search-submit&position=1&pageNum=0'"
   ]
  },
  {
   "cell_type": "code",
   "execution_count": 67,
   "metadata": {},
   "outputs": [],
   "source": [
    "def send_request(target_url,query_params):\n",
    "    # Make the GET request with the separated URL and query parameters\n",
    "    response = requests.get(target_url, params=query_params)\n",
    "    # To check if the request was successful\n",
    "    if response.status_code == 200:\n",
    "        # print(\"Request was successful!\")\n",
    "        time.sleep(15)\n",
    "        return BeautifulSoup(response.text,'html.parser')\n",
    "    else:\n",
    "        print(f\"Request failed with status code: {response.status_code}\")"
   ]
  },
  {
   "cell_type": "code",
   "execution_count": 68,
   "metadata": {},
   "outputs": [],
   "source": [
    "#converting string typed count to integer\n",
    "def job_count_converter(soup):\n",
    "    count = soup.find(class_='results-context-header__job-count').text\n",
    "    return  int(re.sub(r'[^0-9]', '', count))  # Remove anything that's not a digit"
   ]
  },
  {
   "cell_type": "code",
   "execution_count": 69,
   "metadata": {},
   "outputs": [],
   "source": [
    "def crab_job_links_using_keyword(keyword:str):\n",
    "    # Main body of the URL\n",
    "    job_search_url = \"https://www.linkedin.com/jobs/search\"\n",
    "\n",
    "    # Query parameters as a dictionary, updated with the new keyword\n",
    "    query_params = {\n",
    "    \"keywords\": keyword,\n",
    "    \"location\": \"Canada\",\n",
    "    \"geoId\": \"\",\n",
    "    \"f_TPR\": \"r604800\",\n",
    "    \"position\": \"1\",\n",
    "    \"pageNum\": \"0\",\n",
    "    \"start\": \"0\",\n",
    "    \"sortBy\": \"DD\"\n",
    "}\n",
    "    jobs_crabbed  = 0\n",
    "    jobs_posting_link = [] \n",
    "    soup = send_request(job_search_url, query_params)\n",
    "    number = job_count_converter(soup)\n",
    "    if number is None:\n",
    "        number = 2000\n",
    "    if number > 2000:\n",
    "        loop_number = 2000\n",
    "    else:\n",
    "        loop_number = number\n",
    "    while jobs_crabbed <= loop_number:\n",
    "        if not jobs_crabbed == 0:\n",
    "            query_params[\"start\"] = jobs_crabbed\n",
    "            print(jobs_crabbed)\n",
    "            soup = send_request(job_search_url, query_params)\n",
    "        job_list_html = soup.find('ul', class_=\"jobs-search__results-list\").find_all('li')\n",
    "        jobs_crabbed += len(job_list_html)\n",
    "        for job in job_list_html:\n",
    "            try:\n",
    "                job_link = job.find('a', class_=\"base-card__full-link\")['href']\n",
    "            except:\n",
    "                job_link = None\n",
    "            jobs_posting_link.append(job_link)\n",
    "    print(f\"{keyword}: {len(jobs_posting_link)}\")\n",
    "    return jobs_posting_link"
   ]
  },
  {
   "cell_type": "code",
   "execution_count": 70,
   "metadata": {},
   "outputs": [],
   "source": [
    "# import requests\n",
    "# from bs4 import BeautifulSoup\n",
    "# import math\n",
    "# import pandas as pd\n",
    "# l=[]\n",
    "# o={}\n",
    "# k=[]\n",
    "# headers={\"User-Agent\":\"Mozilla/5.0 (Windows NT 10.0; Win64; x64) AppleWebKit/537.36 (KHTML, like Gecko) Chrome/107.0.0.0 Safari/537.36\"}\n",
    "# target_url='https://www.linkedin.com/jobs-guest/jobs/api/seeMoreJobPostings/search?keywords=Python%20%28Programming%20Language%29&location=Las%20Vegas%2C%20Nevada%2C%20United%20States&geoId=100293800&currentJobId=3415227738&start={}'\n",
    "# for i in range(0,math.ceil(117/25)):\n",
    "\n",
    "#     res = requests.get(target_url.format(i))\n",
    "#     soup=BeautifulSoup(res.text,'html.parser')\n",
    "#     alljobs_on_this_page=soup.find_all(\"li\")\n",
    "#     print(len(alljobs_on_this_page))\n",
    "#     for x in range(0,len(alljobs_on_this_page)):\n",
    "#         jobid = alljobs_on_this_page[x].find(\"div\",{\"class\":\"base-card\"}).get('data-entity-urn').split(\":\")[3]\n",
    "#         l.append(jobid)\n",
    "\n",
    "# target_url='https://www.linkedin.com/jobs-guest/jobs/api/jobPosting/{}'\n",
    "# for j in range(0,len(l)):\n",
    "\n",
    "#     resp = requests.get(target_url.format(l[j]))\n",
    "#     soup=BeautifulSoup(resp.text,'html.parser')\n",
    "\n",
    "#     try:\n",
    "#         o[\"company\"]=soup.find(\"div\",{\"class\":\"top-card-layout__card\"}).find(\"a\").find(\"img\").get('alt')\n",
    "#     except:\n",
    "#         o[\"company\"]=None\n",
    "\n",
    "#     try:\n",
    "#         o[\"job-title\"]=soup.find(\"div\",{\"class\":\"top-card-layout__entity-info\"}).find(\"a\").text.strip()\n",
    "#     except:\n",
    "#         o[\"job-title\"]=None\n",
    "\n",
    "#     try:\n",
    "#         o[\"level\"]=soup.find(\"ul\",{\"class\":\"description__job-criteria-list\"}).find(\"li\").text.replace(\"Seniority level\",\"\").strip()\n",
    "#     except:\n",
    "#         o[\"level\"]=None\n",
    "\n",
    "\n",
    "\n",
    "#     k.append(o)\n",
    "#     o={}\n",
    "\n",
    "# df = pd.DataFrame(k)\n",
    "# df.to_csv('linkedinjobs.csv', index=False, encoding='utf-8')\n",
    "# print(k)"
   ]
  },
  {
   "cell_type": "code",
   "execution_count": 71,
   "metadata": {},
   "outputs": [],
   "source": [
    "# create a pandas series using list job list posting and save.\n",
    "def saving_file(jobs_posting_link, keyword:str):\n",
    "    series = pd.Series(jobs_posting_link)\n",
    "    series.to_csv(f'{keyword}.csv', index=False)"
   ]
  },
  {
   "cell_type": "code",
   "execution_count": 72,
   "metadata": {},
   "outputs": [],
   "source": [
    "search_terms_dict = {\n",
    "    \"Technology\": \"Technology OR IT OR Machine Learning OR Network Security\",\n",
    "    \"Healthcare\": \"Healthcare OR Pharmaceuticals OR Clinical Trials\",\n",
    "    \"Finance\": \"Finance OR Banking OR Retail Banking\",\n",
    "    \"Education\": \"Education OR Online Learning OR Vocational Training\",\n",
    "    \"Manufacturing\": \"Manufacturing OR Aerospace OR Electronics OR Mechanical\",\n",
    "    \"Energy\": \"Energy OR Renewable OR Nuclear Power OR Hydroelectric Power OR Biofuels\",\n",
    "    \"Retail\": \"Retail OR E-commerce OR Online Marketplaces OR Luxury Goods OR Supermarkets\",\n",
    "    \"Construction\": \"Construction OR Real Estate OR Architecture OR Interior Design OR Property Management\",\n",
    "    \"Transportation\": \"Transportation OR Logistics OR Air Freight OR Railroads OR Maritime OR Courier\",\n",
    "    \"Hospitality\": \"Hospitality OR Tourism OR Culinary Arts OR Theme Parks OR Cruise Lines\",\n",
    "    \"Professional Services\": \"Professional Services OR Audit OR Accounting OR Executive Search OR Digital Marketing\",\n",
    "    \"Creative Media\": \"Creative Media OR Video Production OR Digital Content OR Graphic Design OR Music Industry\",\n",
    "    \"Telecommunications\": \"Telecommunications OR Broadband OR Satellite Communications OR ISPs OR VoIP\",\n",
    "    \"Agriculture\": \"Agriculture OR Forestry OR Organic Farming OR Aquaculture OR Agrochemicals\",\n",
    "    \"Public Sector\": \"Public Sector OR Non-Profit OR Civic Organization OR International Development OR Environmental\",\n",
    "    \"Science Research\": \"Science Research OR Nanotechnology OR Genomics OR Environmental Science OR Astrophysics\",\n",
    "    \"Engineering\": \"Engineering OR Robotics OR Biomedical OR Environmental OR Mechanical OR Software\",\n",
    "    \"Emerging Industries\": \"Emerging Industries OR VR OR AR OR CleanTech OR Space Exploration OR FinTech\"\n",
    "}\n"
   ]
  },
  {
   "cell_type": "code",
   "execution_count": 75,
   "metadata": {},
   "outputs": [
    {
     "name": "stdout",
     "output_type": "stream",
     "text": [
      "58\n",
      "Request failed with status code: 429\n"
     ]
    },
    {
     "ename": "AttributeError",
     "evalue": "'NoneType' object has no attribute 'find'",
     "output_type": "error",
     "traceback": [
      "\u001b[0;31m---------------------------------------------------------------------------\u001b[0m",
      "\u001b[0;31mAttributeError\u001b[0m                            Traceback (most recent call last)",
      "Cell \u001b[0;32mIn[75], line 2\u001b[0m\n\u001b[1;32m      1\u001b[0m \u001b[38;5;28;01mfor\u001b[39;00m keyword \u001b[38;5;129;01min\u001b[39;00m search_terms_dict:\n\u001b[0;32m----> 2\u001b[0m     jobs_posting_link \u001b[38;5;241m=\u001b[39m \u001b[43mcrab_job_links_using_keyword\u001b[49m\u001b[43m(\u001b[49m\u001b[43mkeyword\u001b[49m\u001b[43m)\u001b[49m\n\u001b[1;32m      3\u001b[0m     saving_file(jobs_posting_link)\n\u001b[1;32m      4\u001b[0m     \u001b[38;5;28mprint\u001b[39m(\u001b[38;5;124mf\u001b[39m\u001b[38;5;124m\"\u001b[39m\u001b[38;5;124mDone with \u001b[39m\u001b[38;5;132;01m{\u001b[39;00mkeyword\u001b[38;5;132;01m}\u001b[39;00m\u001b[38;5;124m jobs\u001b[39m\u001b[38;5;124m\"\u001b[39m)\n",
      "Cell \u001b[0;32mIn[69], line 31\u001b[0m, in \u001b[0;36mcrab_job_links_using_keyword\u001b[0;34m(keyword)\u001b[0m\n\u001b[1;32m     29\u001b[0m     \u001b[38;5;28mprint\u001b[39m(jobs_crabbed)\n\u001b[1;32m     30\u001b[0m     soup \u001b[38;5;241m=\u001b[39m send_request(job_search_url, query_params)\n\u001b[0;32m---> 31\u001b[0m job_list_html \u001b[38;5;241m=\u001b[39m \u001b[43msoup\u001b[49m\u001b[38;5;241;43m.\u001b[39;49m\u001b[43mfind\u001b[49m(\u001b[38;5;124m'\u001b[39m\u001b[38;5;124mul\u001b[39m\u001b[38;5;124m'\u001b[39m, class_\u001b[38;5;241m=\u001b[39m\u001b[38;5;124m\"\u001b[39m\u001b[38;5;124mjobs-search__results-list\u001b[39m\u001b[38;5;124m\"\u001b[39m)\u001b[38;5;241m.\u001b[39mfind_all(\u001b[38;5;124m'\u001b[39m\u001b[38;5;124mli\u001b[39m\u001b[38;5;124m'\u001b[39m)\n\u001b[1;32m     32\u001b[0m jobs_crabbed \u001b[38;5;241m+\u001b[39m\u001b[38;5;241m=\u001b[39m \u001b[38;5;28mlen\u001b[39m(job_list_html)\n\u001b[1;32m     33\u001b[0m \u001b[38;5;28;01mfor\u001b[39;00m job \u001b[38;5;129;01min\u001b[39;00m job_list_html:\n",
      "\u001b[0;31mAttributeError\u001b[0m: 'NoneType' object has no attribute 'find'"
     ]
    }
   ],
   "source": [
    "for keyword in search_terms_dict:\n",
    "    jobs_posting_link = crab_job_links_using_keyword(keyword)\n",
    "    saving_file(jobs_posting_link)\n",
    "    print(f\"Done with {keyword} jobs\")"
   ]
  },
  {
   "cell_type": "code",
   "execution_count": null,
   "metadata": {},
   "outputs": [],
   "source": []
  }
 ],
 "metadata": {
  "kernelspec": {
   "display_name": "base",
   "language": "python",
   "name": "python3"
  },
  "language_info": {
   "codemirror_mode": {
    "name": "ipython",
    "version": 3
   },
   "file_extension": ".py",
   "mimetype": "text/x-python",
   "name": "python",
   "nbconvert_exporter": "python",
   "pygments_lexer": "ipython3",
   "version": "3.11.8"
  }
 },
 "nbformat": 4,
 "nbformat_minor": 2
}
